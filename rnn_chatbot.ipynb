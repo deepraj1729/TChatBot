{
 "cells": [
  {
   "cell_type": "code",
   "execution_count": 50,
   "metadata": {},
   "outputs": [],
   "source": [
    "#Importing the neccessary libraries\n",
    "from nltk.corpus import stopwords\n",
    "from nltk.tokenize import WordPunctTokenizer\n",
    "import nltk\n",
    "import pickle\n",
    "from nltk.corpus import stopwords\n",
    "from nltk.stem import WordNetLemmatizer\n",
    "import numpy as np\n",
    "import re\n",
    "import string\n",
    "import pickle\n",
    "import nltk\n",
    "import pandas as pd\n",
    "from tensorflow.keras.preprocessing.text import Tokenizer\n",
    "import matplotlib.pyplot as plt\n",
    "import pickle\n",
    "from tensorflow.keras.models import Sequential\n",
    "from tensorflow.keras.layers import Embedding,SpatialDropout1D,LSTM,Dense\n",
    "from tensorflow.keras.callbacks import EarlyStopping\n",
    "import tensorflow as tf\n",
    "from tensorflow.keras.preprocessing.sequence import pad_sequences\n",
    "from sklearn.model_selection import train_test_split"
   ]
  },
  {
   "cell_type": "code",
   "execution_count": 4,
   "metadata": {},
   "outputs": [],
   "source": [
    "import json"
   ]
  },
  {
   "cell_type": "code",
   "execution_count": 7,
   "metadata": {},
   "outputs": [],
   "source": [
    "with open('intents.json') as f:\n",
    "    data=json.load(f)"
   ]
  },
  {
   "cell_type": "code",
   "execution_count": 12,
   "metadata": {},
   "outputs": [],
   "source": [
    "x=[]\n",
    "y=[]\n",
    "for intents in data['intents']:\n",
    "    for pattern in intents['patterns']:\n",
    "        x.append(pattern)\n",
    "        y.append(intents['tag'])"
   ]
  },
  {
   "cell_type": "code",
   "execution_count": 37,
   "metadata": {},
   "outputs": [],
   "source": [
    "def process_text(text):\n",
    "    text=text.lower()\n",
    "    text = re.sub(r'[^\\w\\s\\d]', '', text)\n",
    "    lem = WordNetLemmatizer()\n",
    "    text= ' '.join(lem.lemmatize(term) for term in str(text).split())    \n",
    "    return text"
   ]
  },
  {
   "cell_type": "code",
   "execution_count": 41,
   "metadata": {},
   "outputs": [],
   "source": [
    "for i in range(len(x)):\n",
    "    x[i]=process_text(x[i])"
   ]
  },
  {
   "cell_type": "code",
   "execution_count": 77,
   "metadata": {},
   "outputs": [],
   "source": [
    "#Getting the maximum number of words in any row\n",
    "maximum = 0\n",
    "for i in x:\n",
    "    words=[]\n",
    "    for word in i.split(' '):\n",
    "        words.append(word)\n",
    "    no_of_words = len(words)\n",
    "#     print(no_of_words)\n",
    "    if no_of_words>maximum:\n",
    "        maximum = no_of_words\n",
    "    else:\n",
    "        continue"
   ]
  },
  {
   "cell_type": "code",
   "execution_count": 78,
   "metadata": {},
   "outputs": [
    {
     "data": {
      "text/plain": [
       "6"
      ]
     },
     "execution_count": 78,
     "metadata": {},
     "output_type": "execute_result"
    }
   ],
   "source": [
    "maximum"
   ]
  },
  {
   "cell_type": "code",
   "execution_count": 55,
   "metadata": {},
   "outputs": [],
   "source": [
    "# Total number of tags\n",
    "no_of_tags=len(np.unique(y))"
   ]
  },
  {
   "cell_type": "code",
   "execution_count": 36,
   "metadata": {},
   "outputs": [
    {
     "name": "stdout",
     "output_type": "stream",
     "text": [
      "[2 2 2 2 2 2 2 2 2 1 1 1 1 1 1 0 0 0 0 0 0 4 4 4 5 5 5 5 5 3 3 3 3 3 6 6 6\n",
      " 6]\n"
     ]
    }
   ],
   "source": [
    "#Label Encode the classes\n",
    "from sklearn.preprocessing import LabelEncoder\n",
    "le = LabelEncoder()\n",
    "y=le.fit_transform(y)\n",
    "print(y)"
   ]
  },
  {
   "cell_type": "code",
   "execution_count": 79,
   "metadata": {},
   "outputs": [
    {
     "name": "stdout",
     "output_type": "stream",
     "text": [
      "Found 63 unique tokens.\n"
     ]
    }
   ],
   "source": [
    "#This is the number of vocabulary we can have.\n",
    "MAX_NB_WORDS = 1000\n",
    "# Max number of words in the whole dataset in any row\n",
    "MAX_SEQUENCE_LENGTH = maximum\n",
    "# This is fixed.\n",
    "EMBEDDING_DIM = 100\n",
    "# Lets intialise the tokenizer with filters on punctuation and lower the case of the input\n",
    "tokenizer = Tokenizer(num_words=MAX_NB_WORDS, filters='!\"#$%&()*+,-./:;<=>?@[\\]^_`{|}~', lower=True)\n",
    "# Fit on the text of the data\n",
    "tokenizer.fit_on_texts(x)\n",
    "#Lets check for the total unique token in the corpus\n",
    "word_index = tokenizer.word_index\n",
    "print('Found %s unique tokens.' % len(word_index))"
   ]
  },
  {
   "cell_type": "code",
   "execution_count": 80,
   "metadata": {},
   "outputs": [],
   "source": [
    "X = tokenizer.texts_to_sequences(x)\n",
    "X = pad_sequences(X, maxlen=MAX_SEQUENCE_LENGTH)\n",
    "X= np.array(X,dtype=np.float32)"
   ]
  },
  {
   "cell_type": "code",
   "execution_count": 83,
   "metadata": {},
   "outputs": [
    {
     "name": "stdout",
     "output_type": "stream",
     "text": [
      "Shape of label tensor: (38, 7)\n",
      "(34, 6) (34, 7)\n",
      "(4, 6) (4, 7)\n"
     ]
    }
   ],
   "source": [
    "# Convert it into dummy variable of the output class\n",
    "Y = pd.get_dummies(y)\n",
    "print('Shape of label tensor:', Y.shape)\n",
    "#Splitting it into train and test set.. HOLDOUT sets.\n",
    "X_train, X_test, Y_train, Y_test = train_test_split(X,Y, test_size = 0.10, random_state = 42)\n",
    "#Lets check the shape if everything is fine\n",
    "print(X_train.shape,Y_train.shape)\n",
    "print(X_test.shape,Y_test.shape)"
   ]
  },
  {
   "cell_type": "code",
   "execution_count": 84,
   "metadata": {},
   "outputs": [],
   "source": [
    "X_train=tf.cast(X_train,tf.float32)\n",
    "Y_train=tf.cast(Y_train,tf.float32)\n",
    "X_test=tf.cast(X_test,tf.float32)\n",
    "Y_test=tf.cast(Y_test,tf.float32)"
   ]
  },
  {
   "cell_type": "code",
   "execution_count": 85,
   "metadata": {},
   "outputs": [
    {
     "name": "stdout",
     "output_type": "stream",
     "text": [
      "Epoch 1/20\n",
      "9/9 [==============================] - 0s 35ms/step - loss: 1.9422 - accuracy: 0.2059 - val_loss: 1.9010 - val_accuracy: 0.5000\n",
      "Epoch 2/20\n",
      "9/9 [==============================] - 0s 8ms/step - loss: 1.8913 - accuracy: 0.4118 - val_loss: 1.8726 - val_accuracy: 0.2500\n",
      "Epoch 3/20\n",
      "9/9 [==============================] - 0s 8ms/step - loss: 1.8334 - accuracy: 0.3529 - val_loss: 1.7891 - val_accuracy: 0.2500\n",
      "Epoch 4/20\n",
      "9/9 [==============================] - 0s 8ms/step - loss: 1.7323 - accuracy: 0.3529 - val_loss: 1.6704 - val_accuracy: 0.2500\n",
      "Epoch 5/20\n",
      "9/9 [==============================] - 0s 8ms/step - loss: 1.6317 - accuracy: 0.3529 - val_loss: 1.6119 - val_accuracy: 0.5000\n",
      "Epoch 6/20\n",
      "9/9 [==============================] - 0s 8ms/step - loss: 1.5509 - accuracy: 0.4706 - val_loss: 1.6553 - val_accuracy: 0.5000\n",
      "Epoch 7/20\n",
      "9/9 [==============================] - 0s 8ms/step - loss: 1.4262 - accuracy: 0.5294 - val_loss: 1.5600 - val_accuracy: 0.5000\n",
      "Epoch 8/20\n",
      "9/9 [==============================] - 0s 8ms/step - loss: 1.3066 - accuracy: 0.5588 - val_loss: 1.5048 - val_accuracy: 0.5000\n",
      "Epoch 9/20\n",
      "9/9 [==============================] - 0s 9ms/step - loss: 1.1515 - accuracy: 0.5588 - val_loss: 1.4187 - val_accuracy: 0.5000\n",
      "Epoch 10/20\n",
      "9/9 [==============================] - 0s 9ms/step - loss: 1.0100 - accuracy: 0.5588 - val_loss: 1.2819 - val_accuracy: 0.5000\n",
      "Epoch 11/20\n",
      "9/9 [==============================] - 0s 8ms/step - loss: 0.8313 - accuracy: 0.7353 - val_loss: 1.2088 - val_accuracy: 0.5000\n",
      "Epoch 12/20\n",
      "9/9 [==============================] - 0s 9ms/step - loss: 0.6709 - accuracy: 0.8529 - val_loss: 1.1043 - val_accuracy: 0.5000\n",
      "Epoch 13/20\n",
      "9/9 [==============================] - 0s 9ms/step - loss: 0.5203 - accuracy: 0.8824 - val_loss: 1.0234 - val_accuracy: 0.5000\n",
      "Epoch 14/20\n",
      "9/9 [==============================] - 0s 9ms/step - loss: 0.4151 - accuracy: 0.8235 - val_loss: 1.0760 - val_accuracy: 0.5000\n",
      "Epoch 15/20\n",
      "9/9 [==============================] - ETA: 0s - loss: 0.3667 - accuracy: 0.92 - 0s 10ms/step - loss: 0.3171 - accuracy: 0.9412 - val_loss: 1.1010 - val_accuracy: 0.5000\n",
      "Epoch 16/20\n",
      "9/9 [==============================] - 0s 10ms/step - loss: 0.2548 - accuracy: 0.9118 - val_loss: 1.1366 - val_accuracy: 0.5000\n"
     ]
    }
   ],
   "source": [
    "# Lets define the architecture\n",
    "model = Sequential()\n",
    "model.add(Embedding(MAX_NB_WORDS, EMBEDDING_DIM, input_length=X.shape[1]))\n",
    "model.add(LSTM(100))\n",
    "model.add(Dense(no_of_tags, activation='softmax'))\n",
    "model.compile(loss='categorical_crossentropy', optimizer='adam', metrics=['accuracy'])\n",
    "epochs = 20\n",
    "batch_size = 4\n",
    "history = model.fit(X_train, Y_train, epochs=epochs, batch_size=batch_size,validation_data=(X_test,Y_test),callbacks=[EarlyStopping(monitor='val_loss', patience=3, min_delta=0.0001)])"
   ]
  },
  {
   "cell_type": "code",
   "execution_count": 86,
   "metadata": {},
   "outputs": [
    {
     "data": {
      "image/png": "[encoded data removed]",
      "text/plain": [
       "<Figure size 720x720 with 1 Axes>"
      ]
     },
     "metadata": {
      "needs_background": "light"
     },
     "output_type": "display_data"
    }
   ],
   "source": [
    "import matplotlib.pyplot as plt\n",
    "pd.DataFrame(history.history).plot(figsize=(10,10))\n",
    "plt.grid(True)\n",
    "plt.gca().set_ylim(0,1)\n",
    "plt.show()"
   ]
  }
 ],
 "metadata": {
  "kernelspec": {
   "display_name": "Python 3",
   "language": "python",
   "name": "python3"
  },
  "language_info": {
   "codemirror_mode": {
    "name": "ipython",
    "version": 3
   },
   "file_extension": ".py",
   "mimetype": "text/x-python",
   "name": "python",
   "nbconvert_exporter": "python",
   "pygments_lexer": "ipython3",
   "version": "3.7.6"
  }
 },
 "nbformat": 4,
 "nbformat_minor": 4
}
